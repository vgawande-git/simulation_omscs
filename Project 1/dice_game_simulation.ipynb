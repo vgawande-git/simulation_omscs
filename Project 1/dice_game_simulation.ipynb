{
 "cells": [
  {
   "cell_type": "code",
   "execution_count": null,
   "metadata": {},
   "outputs": [],
   "source": [
    "\"\"\"\n",
    "rules from assignment:\n",
    "\n",
    "(1–2 members) Another game.  There are two players, A and B.  At the beginningof the game, \n",
    "each starts with 4 coins, and there are 2 coins in the pot.  A goes first,then B, then A,. . . .  \n",
    "During a particular player’s turn, the player tosses a 6-sideddie.  If the player rolls a:\n",
    "•1, then the player does nothing.\n",
    "•2:  then the player takes all coins in the pot.\n",
    "•3:  then the player takes half of the coins in the pot (rounded down).\n",
    "•4,5,6:  then the player puts a coin in the pot.\n",
    "\n",
    "A player \n",
    "loses (and the game is over) if they are unable to perform the task (i.e.,if they have 0 coins and\n",
    "need to place one in the pot).  We define a cycle as A andthen B completing their turns.\n",
    "The exception is if a player goes out;  that is the\n",
    "4final cycle (but it still counts as the last cycle).\n",
    "\n",
    "We are trying to determine \n",
    "theexpected number (and maybe even the distribution) of cycles the game will lastfor.\n",
    "I’m guessing that you can use “first-step” analysis to get the expected value.Simulation seems\n",
    "the easiest thing to do to get the entire distribution.\n",
    "\"\"\"\n",
    "\n",
    "# will delete these top cells before submitting"
   ]
  },
  {
   "cell_type": "code",
   "execution_count": null,
   "metadata": {},
   "outputs": [],
   "source": [
    "\"\"\"\n",
    "TODO\n",
    "\n",
    "-how much math notation? how do we make the analysis \"statistically rigorous\"?\n",
    "-how many simulations is enough for a MC simulation? Why am I using 10k?\n",
    "-add documentation/comments in code\n",
    "-add README to repo\n",
    "-writeups for all sections\n",
    "-first-step analysis? what is that?\n",
    "http://www.maths.qmul.ac.uk/~ig/MAS338/FSAnalysis.pdf\n",
    "\n",
    "modifications to game rules:\n",
    "    - does the first player have an advantage in winning?\n",
    "        - seems roughly to have no impact, but can we quantify that?\n",
    "    - if a '1' is rolled, give a coin (increase probability of giving a coin):\n",
    "        - reduces # cycles to ~11, aligns with expectations\n",
    "    - if a '2' is rolled, receive twice the amount in the pot, instead of just the amount in pot:\n",
    "        - in the extreme case, the game can run very long (infinitely) as coins in circulation grows exponentially\n",
    "        - ** additional questions to explore on this one are below\n",
    "\"\"\""
   ]
  },
  {
   "cell_type": "markdown",
   "metadata": {},
   "source": [
    "# *ISYE-6644 Mini-Project 1 - Dice Game Simulation*\n",
    "### *Vivek Gawande & Sameer Vinayak*"
   ]
  },
  {
   "cell_type": "markdown",
   "metadata": {},
   "source": [
    "## Abstract"
   ]
  },
  {
   "cell_type": "code",
   "execution_count": null,
   "metadata": {},
   "outputs": [],
   "source": []
  },
  {
   "cell_type": "markdown",
   "metadata": {},
   "source": [
    "## Background & Description"
   ]
  },
  {
   "cell_type": "code",
   "execution_count": null,
   "metadata": {},
   "outputs": [],
   "source": []
  },
  {
   "cell_type": "markdown",
   "metadata": {},
   "source": [
    "## Implementation"
   ]
  },
  {
   "cell_type": "code",
   "execution_count": 121,
   "metadata": {},
   "outputs": [],
   "source": [
    "import random\n",
    "import time\n",
    "import matplotlib.pyplot as plt\n",
    "import numpy as np\n",
    "random.seed(998877)  # elaborate on what is being done here"
   ]
  },
  {
   "cell_type": "code",
   "execution_count": 122,
   "metadata": {},
   "outputs": [],
   "source": [
    "class DiceGame:\n",
    "\n",
    "    def __init__(self, first='a'):\n",
    "        self.player_a = 4\n",
    "        self.player_b = 4\n",
    "        self.pot = 2\n",
    "        self.cycles = 0\n",
    "        self.first = first\n",
    "        self.players = {'a':self.player_a,\n",
    "                        'b':self.player_b}\n",
    "        self.current_player = self.first\n",
    "        self.winner = None\n",
    "    \n",
    "    def __roll(self):\n",
    "        return random.randrange(6) + 1\n",
    "    \n",
    "    def play_game(self): \n",
    "        while True:\n",
    "            if self.current_player == 'a':\n",
    "                self.cycles +=1\n",
    "            outcome = self.__roll()\n",
    "            if self.cycles == 1:\n",
    "                self.first = outcome\n",
    "\n",
    "            if outcome == 1:\n",
    "                continue\n",
    "            elif outcome == 2:\n",
    "                self.players[self.current_player] += self.pot\n",
    "                self.pot = 0\n",
    "            elif outcome == 3:\n",
    "                half_pot = self.pot // 2\n",
    "                self.players[self.current_player] += half_pot\n",
    "                self.pot -= half_pot\n",
    "            else:\n",
    "                if self.players[self.current_player] == 0:\n",
    "                    self.winner = 'a' if self.current_player == 'b' else 'b'\n",
    "                    break\n",
    "                self.players[self.current_player] -= 1\n",
    "                self.pot += 1\n",
    "            \n",
    "            self.current_player = 'a' if self.current_player == 'b' else 'b'"
   ]
  },
  {
   "cell_type": "code",
   "execution_count": 123,
   "metadata": {
    "scrolled": true
   },
   "outputs": [
    {
     "data": {
      "text/plain": [
       "36"
      ]
     },
     "execution_count": 123,
     "metadata": {},
     "output_type": "execute_result"
    }
   ],
   "source": [
    "game = DiceGame()\n",
    "game.play_game()\n",
    "game.cycles"
   ]
  },
  {
   "cell_type": "code",
   "execution_count": 124,
   "metadata": {},
   "outputs": [],
   "source": [
    "def simulate_n_games(game_object, n=1000, plot=True):\n",
    "    number_of_cycles = []\n",
    "    for i in range(n):\n",
    "        game = game_object()\n",
    "        game.play_game()\n",
    "        number_of_cycles.append(game.cycles)\n",
    "    \n",
    "    mean_cycles = np.mean(number_of_cycles)\n",
    "    std_cycles = np.std(number_of_cycles)\n",
    "    \n",
    "    if plot:\n",
    "        fig = plt.figure(figsize=(20, 10))\n",
    "        ax = fig.add_subplot(111)\n",
    "        ax.hist(number_of_cycles, bins = len(set(number_of_cycles)),\n",
    "                color='green' if game_object == DiceGame else 'orange', alpha=.5);\n",
    "        ax.set_title(str(n) + \" Simulations of Dice Game\");\n",
    "        plt.grid(True, alpha=.5)\n",
    "        ax.set_xlabel('Cycles');\n",
    "        ax.set_ylabel('Frequency');\n",
    "        plt.axvline(mean_cycles, color='red', ls='--', lw='3')\n",
    "        plt.show();\n",
    "        print(\"Mean # of cycles per game: \" + str(round(mean_cycles,2)))\n",
    "    return mean_cycles"
   ]
  },
  {
   "cell_type": "code",
   "execution_count": 125,
   "metadata": {},
   "outputs": [
    {
     "data": {
      "image/png": "[encoded data removed]",
      "text/plain": [
       "<Figure size 1440x720 with 1 Axes>"
      ]
     },
     "metadata": {
      "needs_background": "light"
     },
     "output_type": "display_data"
    },
    {
     "name": "stdout",
     "output_type": "stream",
     "text": [
      "Mean # of cycles per game: 17.52\n"
     ]
    }
   ],
   "source": [
    "_ = simulate_n_games(DiceGame, 10000)"
   ]
  },
  {
   "cell_type": "code",
   "execution_count": 126,
   "metadata": {},
   "outputs": [],
   "source": [
    "def get_mean_cycles_k_times(k=1000, n=100):\n",
    "    means = []\n",
    "    for i in range(k):\n",
    "        means.append(simulate_n_games(DiceGame, n, plot=False))\n",
    "\n",
    "    fig = plt.figure(figsize=(10, 10))\n",
    "    ax = fig.add_subplot(111)\n",
    "    ax.hist(means, color='darkorchid', alpha=.5, bins=min(k//10,50));\n",
    "    ax.set_title(\"Average # of Cycles for \" + str(k) + \" Simulations of \" + str(n) + \" Games\");\n",
    "    mean_of_means = np.mean(means)\n",
    "    std_of_means = np.std(means)\n",
    "    plt.xlim((mean_of_means-3*std_of_means, mean_of_means+3*std_of_means))\n",
    "    plt.axvline(mean_of_means, color='red', ls='--', lw='3')\n",
    "    plt.grid(True, alpha=.5)\n",
    "        "
   ]
  },
  {
   "cell_type": "code",
   "execution_count": 127,
   "metadata": {},
   "outputs": [
    {
     "data": {
      "image/png": "[encoded data removed]",
      "text/plain": [
       "<Figure size 720x720 with 1 Axes>"
      ]
     },
     "metadata": {
      "needs_background": "light"
     },
     "output_type": "display_data"
    }
   ],
   "source": [
    "get_mean_cycles_k_times()"
   ]
  },
  {
   "cell_type": "code",
   "execution_count": 128,
   "metadata": {},
   "outputs": [],
   "source": [
    "# definitely need to analyze this result"
   ]
  },
  {
   "cell_type": "markdown",
   "metadata": {},
   "source": [
    "### Winning % based on who goes first"
   ]
  },
  {
   "cell_type": "code",
   "execution_count": 129,
   "metadata": {},
   "outputs": [],
   "source": [
    "def simulate_n_games_winner(n=1000, plot=True, first='a'):\n",
    "    winner = []\n",
    "    for i in range(n):\n",
    "        game = DiceGame(first=first)\n",
    "        game.play_game()\n",
    "        winner.append(game.winner)\n",
    "    \n",
    "    #plt.hist(number_of_cycles, bins=len(set(number_of_cycles)))\n",
    "    \n",
    "    return len([i for i in winner if i == first])/n"
   ]
  },
  {
   "cell_type": "code",
   "execution_count": 130,
   "metadata": {},
   "outputs": [
    {
     "data": {
      "text/plain": [
       "0.50327"
      ]
     },
     "execution_count": 130,
     "metadata": {},
     "output_type": "execute_result"
    }
   ],
   "source": [
    "simulate_n_games_winner(100000, 'a')  # says that when 'a' goes first, they win 50.327% of matches"
   ]
  },
  {
   "cell_type": "code",
   "execution_count": 131,
   "metadata": {},
   "outputs": [],
   "source": [
    "# how do we test if this result is significant?"
   ]
  },
  {
   "cell_type": "markdown",
   "metadata": {},
   "source": [
    "### If rolling a 1 also results in having to give a coin"
   ]
  },
  {
   "cell_type": "code",
   "execution_count": 132,
   "metadata": {},
   "outputs": [],
   "source": [
    "class ModifiedDiceGame1:\n",
    "\n",
    "    def __init__(self, first='a'):\n",
    "        self.player_a = 4\n",
    "        self.player_b = 4\n",
    "        self.pot = 2\n",
    "        self.cycles = 0\n",
    "        self.first = first\n",
    "        self.players = {'a':self.player_a,\n",
    "                        'b':self.player_b}\n",
    "        self.current_player = self.first\n",
    "        self.winner = None\n",
    "    \n",
    "    def __roll(self):\n",
    "        return random.randrange(6) + 1\n",
    "    \n",
    "    def play_game(self): \n",
    "        while True:\n",
    "            if self.current_player == 'a':\n",
    "                self.cycles +=1\n",
    "            outcome = self.__roll()\n",
    "            if self.cycles == 1:\n",
    "                self.first = outcome\n",
    "\n",
    "            if outcome == 2:\n",
    "                self.players[self.current_player] += self.pot\n",
    "                self.pot = 0\n",
    "            elif outcome == 3:\n",
    "                half_pot = self.pot // 2\n",
    "                self.players[self.current_player] += half_pot\n",
    "                self.pot -= half_pot\n",
    "            else:\n",
    "                if self.players[self.current_player] == 0:\n",
    "                    self.winner = 'a' if self.current_player == 'b' else 'b'\n",
    "                    break\n",
    "                self.players[self.current_player] -= 1\n",
    "                self.pot += 1\n",
    "            \n",
    "            self.current_player = 'a' if self.current_player == 'b' else 'b'"
   ]
  },
  {
   "cell_type": "code",
   "execution_count": 141,
   "metadata": {},
   "outputs": [
    {
     "data": {
      "image/png": "[encoded data removed]",
      "text/plain": [
       "<Figure size 1440x720 with 1 Axes>"
      ]
     },
     "metadata": {
      "needs_background": "light"
     },
     "output_type": "display_data"
    },
    {
     "name": "stdout",
     "output_type": "stream",
     "text": [
      "Mean # of cycles per game: 11.23\n"
     ]
    }
   ],
   "source": [
    "_ = simulate_n_games(ModifiedDiceGame1, 10000)"
   ]
  },
  {
   "cell_type": "code",
   "execution_count": 134,
   "metadata": {},
   "outputs": [],
   "source": [
    "# should be simple analysis - increases the probability that a player loses a coin\n",
    "# maybe we can talk about the variance here as well"
   ]
  },
  {
   "cell_type": "markdown",
   "metadata": {},
   "source": [
    "### if rolling a 2 means player gets 2x coins in pot"
   ]
  },
  {
   "cell_type": "code",
   "execution_count": 137,
   "metadata": {},
   "outputs": [],
   "source": [
    "class ModifiedDiceGame2x:\n",
    "\n",
    "    def __init__(self, first='a'):\n",
    "        self.player_a = 4\n",
    "        self.player_b = 4\n",
    "        self.pot = 2\n",
    "        self.cycles = 0\n",
    "        self.first = first\n",
    "        self.players = {'a':self.player_a,\n",
    "                        'b':self.player_b}\n",
    "        self.current_player = self.first\n",
    "        self.winner = None\n",
    "    \n",
    "    def __roll(self):\n",
    "        return random.randrange(6) + 1\n",
    "    \n",
    "    def play_game(self): \n",
    "        while True:\n",
    "            if self.cycles > 10000:  # had to cap the max # of cycles\n",
    "                self.winner = 'draw'\n",
    "                break\n",
    "            if self.current_player == 'a':\n",
    "                self.cycles +=1\n",
    "            outcome = self.__roll()\n",
    "            if self.cycles == 1:\n",
    "                self.first = outcome\n",
    "\n",
    "            if outcome == 1:\n",
    "                continue\n",
    "            elif outcome == 2:\n",
    "                self.players[self.current_player] += self.pot\n",
    "                self.pot = 0\n",
    "            elif outcome == 3:\n",
    "                half_pot = self.pot // 2\n",
    "                self.players[self.current_player] += 2*half_pot\n",
    "                self.pot -= half_pot\n",
    "            else:\n",
    "                if self.players[self.current_player] == 0:\n",
    "                    self.winner = 'a' if self.current_player == 'b' else 'b'\n",
    "                    break\n",
    "                self.players[self.current_player] -= 1\n",
    "                self.pot += 1\n",
    "            \n",
    "            self.current_player = 'a' if self.current_player == 'b' else 'b'"
   ]
  },
  {
   "cell_type": "code",
   "execution_count": 140,
   "metadata": {},
   "outputs": [
    {
     "data": {
      "image/png": "[encoded data removed]",
      "text/plain": [
       "<Figure size 1440x720 with 1 Axes>"
      ]
     },
     "metadata": {
      "needs_background": "light"
     },
     "output_type": "display_data"
    },
    {
     "name": "stdout",
     "output_type": "stream",
     "text": [
      "Mean # of cycles per game: 1722.0\n"
     ]
    }
   ],
   "source": [
    "_ = simulate_n_games(ModifiedDiceGame2x, 100)"
   ]
  },
  {
   "cell_type": "code",
   "execution_count": 139,
   "metadata": {},
   "outputs": [],
   "source": [
    "# there's room for interesting analysis here around the variance caused by doubling the pot size\n",
    "# we can perhaps talk about how it's important to define the game rules to avoid these issues,\n",
    "# and maybe plot the pot sizes in the outlier case to show it approach infinity/10000"
   ]
  },
  {
   "cell_type": "code",
   "execution_count": null,
   "metadata": {},
   "outputs": [],
   "source": []
  }
 ],
 "metadata": {
  "kernelspec": {
   "display_name": "Python 3",
   "language": "python",
   "name": "python3"
  },
  "language_info": {
   "codemirror_mode": {
    "name": "ipython",
    "version": 3
   },
   "file_extension": ".py",
   "mimetype": "text/x-python",
   "name": "python",
   "nbconvert_exporter": "python",
   "pygments_lexer": "ipython3",
   "version": "3.7.6"
  }
 },
 "nbformat": 4,
 "nbformat_minor": 4
}